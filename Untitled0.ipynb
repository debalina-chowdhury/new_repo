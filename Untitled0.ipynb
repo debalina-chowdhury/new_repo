{
  "nbformat": 4,
  "nbformat_minor": 0,
  "metadata": {
    "colab": {
      "name": "Untitled0.ipynb",
      "version": "0.3.2",
      "provenance": [],
      "include_colab_link": true
    },
    "kernelspec": {
      "name": "python3",
      "display_name": "Python 3"
    }
  },
  "cells": [
    {
      "cell_type": "markdown",
      "metadata": {
        "id": "view-in-github",
        "colab_type": "text"
      },
      "source": [
        "[View in Colaboratory](https://colab.research.google.com/github/debalina-chowdhury/new_repo/blob/master/Untitled0.ipynb)"
      ]
    },
    {
      "metadata": {
        "id": "4fCoQfJG2Fu1",
        "colab_type": "code",
        "colab": {
          "base_uri": "https://localhost:8080/",
          "height": 51
        },
        "outputId": "44880faa-d943-4e7f-e8ec-9b006c87523e"
      },
      "cell_type": "code",
      "source": [
        "import pandas as pd\n",
        "class Person:\n",
        "  def __init__(myobj, name, age):\n",
        "    myobj.name = name\n",
        "    myobj.age = age\n",
        "  def myFunc(self):\n",
        "    print(\"Hello I can walk \")\n",
        "  def myPhone(self):\n",
        "    pass\n",
        "p1 = Person('Hitendri', 21)\n",
        "print(p1.name[2:5], p1.age)\n",
        "p1.myFunc()\n",
        "p1.myPhone()"
      ],
      "execution_count": 8,
      "outputs": [
        {
          "output_type": "stream",
          "text": [
            "ten 21\n",
            "Hello I can walk \n"
          ],
          "name": "stdout"
        }
      ]
    }
  ]
}